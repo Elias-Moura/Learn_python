{
 "cells": [
  {
   "cell_type": "code",
   "execution_count": 11,
   "id": "700cc1e3",
   "metadata": {},
   "outputs": [],
   "source": [
    "#Estudando classes e métodos (Funções)\n",
    "\n",
    "class planejadores:\n",
    "    def __init__(self, nome, email):\n",
    "        self.nome = nome\n",
    "        self.email = email\n",
    "        \n",
    "    def Enviar_email(self):\n",
    "        pass\n",
    "    \n",
    "    def Exibir_info(self):\n",
    "        print(self.nome, self.email)\n",
    "\n",
    "        "
   ]
  },
  {
   "cell_type": "code",
   "execution_count": 12,
   "id": "7dabbaca",
   "metadata": {},
   "outputs": [
    {
     "data": {
      "text/plain": [
       "\"planejador1 = planejadores('Elias Moura', 'elias.moura@k1planejamento.com.br')\\nplanejador2 = planejadores('Vitor Noronha', 'vitor.noronha@k1planejamento.com.br')\\nplanejador3 = planejadores('Thiago Milanez', 'thiago.milanez@k1planejamento.com.br')\\nplanejador4 = planejadores('Renata Azevedo', 'renata.azevedo@k1planejamento.com.br')\\nplanejador5 = planejadores('Fernando Scofano', 'fernando.scofano@k1planejamento.com.br')\\nplanejador6 = planejadores('Alex Oliveira', 'alex.oliveira@k1planejamento.com.br')\\nplanejador7 = planejadores('Renato Castro', 'renato.castro@k1planejamento.com.br')\""
      ]
     },
     "execution_count": 12,
     "metadata": {},
     "output_type": "execute_result"
    }
   ],
   "source": [
    "'''planejador1 = planejadores('Elias Moura', 'elias.moura@k1planejamento.com.br')\n",
    "planejador2 = planejadores('Vitor Noronha', 'vitor.noronha@k1planejamento.com.br')\n",
    "planejador3 = planejadores('Thiago Milanez', 'thiago.milanez@k1planejamento.com.br')\n",
    "planejador4 = planejadores('Renata Azevedo', 'renata.azevedo@k1planejamento.com.br')\n",
    "planejador5 = planejadores('Fernando Scofano', 'fernando.scofano@k1planejamento.com.br')\n",
    "planejador6 = planejadores('Alex Oliveira', 'alex.oliveira@k1planejamento.com.br')\n",
    "planejador7 = planejadores('Renato Castro', 'renato.castro@k1planejamento.com.br')'''"
   ]
  },
  {
   "cell_type": "code",
   "execution_count": 3,
   "id": "f9021347",
   "metadata": {},
   "outputs": [],
   "source": [
    "lista_planejadores = ['Elias Moura', \n",
    "                      'Vitor Noronha', \n",
    "                      'Thiago Milanez', \n",
    "                      'Renata Azevedo', \n",
    "                      'Fernando Scofano', \n",
    "                      'Alex Oliveira', \n",
    "                      'Renato Castro']\n",
    "lista_email = ['elias.moura@k1planejamento.com.br', \n",
    "               'vitor.noronha@k1planejamento.com.br,', \n",
    "               'thiago.milanez@k1planejamento.com.br',\n",
    "               'renata.azevedo@k1planejamento.com.br',\n",
    "               'fernando.scofano@k1planejamento.com.br',\n",
    "               'alex.oliveira@k1planejamento.com.br',\n",
    "               'renato.castro@k1planejamento.com.br']\n"
   ]
  },
  {
   "cell_type": "code",
   "execution_count": 5,
   "id": "e78bcf21",
   "metadata": {},
   "outputs": [
    {
     "ename": "ValueError",
     "evalue": "too many values to unpack (expected 2)",
     "output_type": "error",
     "traceback": [
      "\u001b[1;31m---------------------------------------------------------------------------\u001b[0m",
      "\u001b[1;31mValueError\u001b[0m                                Traceback (most recent call last)",
      "Input \u001b[1;32mIn [5]\u001b[0m, in \u001b[0;36m<cell line: 1>\u001b[1;34m()\u001b[0m\n\u001b[1;32m----> 1\u001b[0m \u001b[38;5;28;01mfor\u001b[39;00m i, colab \u001b[38;5;129;01min\u001b[39;00m lista_planejadores:\n\u001b[0;32m      2\u001b[0m     \u001b[38;5;28mprint\u001b[39m(lista_planejadores, lista_email)\n",
      "\u001b[1;31mValueError\u001b[0m: too many values to unpack (expected 2)"
     ]
    }
   ],
   "source": [
    "for i, colab in lista_planejadores:\n",
    "    print(lista_planejadores, lista_email)"
   ]
  },
  {
   "cell_type": "code",
   "execution_count": null,
   "id": "ed2b3bf9",
   "metadata": {},
   "outputs": [],
   "source": []
  }
 ],
 "metadata": {
  "kernelspec": {
   "display_name": "Python 3 (ipykernel)",
   "language": "python",
   "name": "python3"
  },
  "language_info": {
   "codemirror_mode": {
    "name": "ipython",
    "version": 3
   },
   "file_extension": ".py",
   "mimetype": "text/x-python",
   "name": "python",
   "nbconvert_exporter": "python",
   "pygments_lexer": "ipython3",
   "version": "3.9.12"
  }
 },
 "nbformat": 4,
 "nbformat_minor": 5
}
